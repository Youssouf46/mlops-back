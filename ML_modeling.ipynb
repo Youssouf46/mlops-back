{
 "cells": [
  {
   "cell_type": "code",
   "execution_count": 1,
   "id": "3bdd7a8a",
   "metadata": {
    "pycharm": {
     "name": "#%%\n"
    }
   },
   "outputs": [
    {
     "name": "stderr",
     "output_type": "stream",
     "text": [
      "/home/bassem/anaconda3/lib/python3.11/site-packages/pydantic/_internal/_fields.py:127: UserWarning: Field \"model_server_url\" has conflict with protected namespace \"model_\".\n",
      "\n",
      "You may be able to resolve this warning by setting `model_config['protected_namespaces'] = ()`.\n",
      "  warnings.warn(\n",
      "/home/bassem/anaconda3/lib/python3.11/site-packages/pydantic/_internal/_config.py:269: UserWarning: Valid config keys have changed in V2:\n",
      "* 'schema_extra' has been renamed to 'json_schema_extra'\n",
      "  warnings.warn(message, UserWarning)\n"
     ]
    }
   ],
   "source": [
    "import pandas as pd\n",
    "pd.options.display.max_columns = None\n",
    "import seaborn as sns\n",
    "from imblearn.over_sampling import SMOTE\n",
    "from sklearn.linear_model import LogisticRegression\n",
    "from sklearn.metrics import confusion_matrix, classification_report\n",
    "from sklearn.ensemble import RandomForestClassifier\n",
    "from sklearn.metrics import precision_recall_fscore_support as score\n",
    "from xgboost import XGBClassifier\n",
    "import mlflow\n",
    "import datetime\n",
    "import warnings\n",
    "warnings.filterwarnings(\"ignore\")"
   ]
  },
  {
   "cell_type": "code",
   "execution_count": 2,
   "id": "f5d47d75",
   "metadata": {},
   "outputs": [],
   "source": [
    "version = \"v1.0\"\n",
    "data_url = \"../data/fraud.csv\""
   ]
  },
  {
   "cell_type": "code",
   "execution_count": 3,
   "id": "a85411bf",
   "metadata": {
    "pycharm": {
     "name": "#%%\n"
    }
   },
   "outputs": [],
   "source": [
    "import sys  \n",
    "sys.path.insert(0, '../backend/src')\n",
    "\n",
    "import data_preprocessing_training"
   ]
  },
  {
   "cell_type": "code",
   "execution_count": 4,
   "id": "35d4e51a",
   "metadata": {
    "pycharm": {
     "name": "#%%\n"
    }
   },
   "outputs": [],
   "source": [
    "from data_preprocessing_training import transform_data"
   ]
  },
  {
   "cell_type": "code",
   "execution_count": 5,
   "id": "b83484e0",
   "metadata": {},
   "outputs": [],
   "source": [
    "import os\n",
    "os.environ['MLFLOW_TRACKING_USERNAME']= \"bassem.benhamed\"\n",
    "os.environ[\"MLFLOW_TRACKING_PASSWORD\"] = \"bd4127ad9b5283f90b52886f5070b8d78c19bcaf\""
   ]
  },
  {
   "cell_type": "code",
   "execution_count": 6,
   "id": "cd0d7176",
   "metadata": {
    "pycharm": {
     "name": "#%%\n"
    }
   },
   "outputs": [
    {
     "name": "stderr",
     "output_type": "stream",
     "text": [
      "2023/10/02 11:08:35 INFO mlflow.tracking.fluent: Experiment with name 'idsd-id-experiment' does not exist. Creating a new experiment.\n"
     ]
    },
    {
     "data": {
      "text/plain": [
       "<Experiment: artifact_location='mlflow-artifacts:/14a5811db9aa4c6bb3acc344b6cac811', creation_time=1696241315920, experiment_id='0', last_update_time=1696241315920, lifecycle_stage='active', name='idsd-id-experiment', tags={}>"
      ]
     },
     "execution_count": 6,
     "metadata": {},
     "output_type": "execute_result"
    }
   ],
   "source": [
    "\n",
    "#setup mlflow\n",
    "mlflow.set_tracking_uri('https://dagshub.com/bassem.benhamed/idsd_id.mlflow') #your mlfow tracking uri\n",
    "mlflow.set_experiment(\"idsd-id-experiment\")"
   ]
  },
  {
   "cell_type": "code",
   "execution_count": 7,
   "id": "1e6f9826",
   "metadata": {
    "pycharm": {
     "name": "#%%\n"
    }
   },
   "outputs": [],
   "source": [
    "#read the data\n",
    "df = pd.read_csv(data_url)"
   ]
  },
  {
   "cell_type": "code",
   "execution_count": 8,
   "id": "df3afb25",
   "metadata": {},
   "outputs": [
    {
     "data": {
      "text/plain": [
       "(100000, 23)"
      ]
     },
     "execution_count": 8,
     "metadata": {},
     "output_type": "execute_result"
    }
   ],
   "source": [
    "#shape of the data\n",
    "df.shape"
   ]
  },
  {
   "cell_type": "code",
   "execution_count": 9,
   "id": "5d9db258",
   "metadata": {
    "pycharm": {
     "name": "#%%\n"
    }
   },
   "outputs": [],
   "source": [
    "#cleaning and preprocessing\n",
    "X_train,X_test,y_train,y_test = transform_data(df)"
   ]
  },
  {
   "cell_type": "code",
   "execution_count": 10,
   "id": "f6f34340",
   "metadata": {
    "pycharm": {
     "name": "#%%\n"
    }
   },
   "outputs": [
    {
     "data": {
      "text/html": [
       "<div>\n",
       "<style scoped>\n",
       "    .dataframe tbody tr th:only-of-type {\n",
       "        vertical-align: middle;\n",
       "    }\n",
       "\n",
       "    .dataframe tbody tr th {\n",
       "        vertical-align: top;\n",
       "    }\n",
       "\n",
       "    .dataframe thead th {\n",
       "        text-align: right;\n",
       "    }\n",
       "</style>\n",
       "<table border=\"1\" class=\"dataframe\">\n",
       "  <thead>\n",
       "    <tr style=\"text-align: right;\">\n",
       "      <th></th>\n",
       "      <th>amt</th>\n",
       "      <th>gender</th>\n",
       "      <th>zip</th>\n",
       "      <th>lat</th>\n",
       "      <th>long</th>\n",
       "      <th>merch_lat</th>\n",
       "      <th>merch_long</th>\n",
       "      <th>year</th>\n",
       "      <th>month</th>\n",
       "      <th>day</th>\n",
       "      <th>hour</th>\n",
       "      <th>sec</th>\n",
       "      <th>age</th>\n",
       "      <th>category_entertainment</th>\n",
       "      <th>category_food_dining</th>\n",
       "      <th>category_gas_transport</th>\n",
       "      <th>category_grocery_net</th>\n",
       "      <th>category_grocery_pos</th>\n",
       "      <th>category_health_fitness</th>\n",
       "      <th>category_home</th>\n",
       "      <th>category_kids_pets</th>\n",
       "      <th>category_misc_net</th>\n",
       "      <th>category_misc_pos</th>\n",
       "      <th>category_personal_care</th>\n",
       "      <th>category_shopping_net</th>\n",
       "      <th>category_shopping_pos</th>\n",
       "      <th>category_travel</th>\n",
       "    </tr>\n",
       "  </thead>\n",
       "  <tbody>\n",
       "    <tr>\n",
       "      <th>78689</th>\n",
       "      <td>98.21</td>\n",
       "      <td>1</td>\n",
       "      <td>33956</td>\n",
       "      <td>26.5290</td>\n",
       "      <td>-82.0916</td>\n",
       "      <td>26.755882</td>\n",
       "      <td>-82.439298</td>\n",
       "      <td>2019</td>\n",
       "      <td>2</td>\n",
       "      <td>16</td>\n",
       "      <td>12</td>\n",
       "      <td>20</td>\n",
       "      <td>47</td>\n",
       "      <td>0</td>\n",
       "      <td>0</td>\n",
       "      <td>0</td>\n",
       "      <td>0</td>\n",
       "      <td>0</td>\n",
       "      <td>1</td>\n",
       "      <td>0</td>\n",
       "      <td>0</td>\n",
       "      <td>0</td>\n",
       "      <td>0</td>\n",
       "      <td>0</td>\n",
       "      <td>0</td>\n",
       "      <td>0</td>\n",
       "      <td>0</td>\n",
       "    </tr>\n",
       "    <tr>\n",
       "      <th>76423</th>\n",
       "      <td>6.01</td>\n",
       "      <td>1</td>\n",
       "      <td>29860</td>\n",
       "      <td>33.6028</td>\n",
       "      <td>-81.9748</td>\n",
       "      <td>32.867139</td>\n",
       "      <td>-82.648669</td>\n",
       "      <td>2019</td>\n",
       "      <td>2</td>\n",
       "      <td>14</td>\n",
       "      <td>19</td>\n",
       "      <td>59</td>\n",
       "      <td>81</td>\n",
       "      <td>0</td>\n",
       "      <td>0</td>\n",
       "      <td>0</td>\n",
       "      <td>0</td>\n",
       "      <td>0</td>\n",
       "      <td>0</td>\n",
       "      <td>0</td>\n",
       "      <td>0</td>\n",
       "      <td>0</td>\n",
       "      <td>0</td>\n",
       "      <td>0</td>\n",
       "      <td>0</td>\n",
       "      <td>0</td>\n",
       "      <td>1</td>\n",
       "    </tr>\n",
       "    <tr>\n",
       "      <th>86945</th>\n",
       "      <td>2.62</td>\n",
       "      <td>1</td>\n",
       "      <td>46290</td>\n",
       "      <td>39.9347</td>\n",
       "      <td>-86.1633</td>\n",
       "      <td>38.937676</td>\n",
       "      <td>-85.222318</td>\n",
       "      <td>2019</td>\n",
       "      <td>2</td>\n",
       "      <td>20</td>\n",
       "      <td>17</td>\n",
       "      <td>19</td>\n",
       "      <td>36</td>\n",
       "      <td>0</td>\n",
       "      <td>0</td>\n",
       "      <td>0</td>\n",
       "      <td>0</td>\n",
       "      <td>0</td>\n",
       "      <td>0</td>\n",
       "      <td>0</td>\n",
       "      <td>0</td>\n",
       "      <td>0</td>\n",
       "      <td>1</td>\n",
       "      <td>0</td>\n",
       "      <td>0</td>\n",
       "      <td>0</td>\n",
       "      <td>0</td>\n",
       "    </tr>\n",
       "    <tr>\n",
       "      <th>57427</th>\n",
       "      <td>6.85</td>\n",
       "      <td>0</td>\n",
       "      <td>13755</td>\n",
       "      <td>42.0716</td>\n",
       "      <td>-75.0152</td>\n",
       "      <td>42.047015</td>\n",
       "      <td>-75.653525</td>\n",
       "      <td>2019</td>\n",
       "      <td>2</td>\n",
       "      <td>3</td>\n",
       "      <td>23</td>\n",
       "      <td>35</td>\n",
       "      <td>33</td>\n",
       "      <td>0</td>\n",
       "      <td>0</td>\n",
       "      <td>0</td>\n",
       "      <td>0</td>\n",
       "      <td>0</td>\n",
       "      <td>0</td>\n",
       "      <td>0</td>\n",
       "      <td>1</td>\n",
       "      <td>0</td>\n",
       "      <td>0</td>\n",
       "      <td>0</td>\n",
       "      <td>0</td>\n",
       "      <td>0</td>\n",
       "      <td>0</td>\n",
       "    </tr>\n",
       "    <tr>\n",
       "      <th>34616</th>\n",
       "      <td>45.48</td>\n",
       "      <td>1</td>\n",
       "      <td>67232</td>\n",
       "      <td>37.6395</td>\n",
       "      <td>-97.1714</td>\n",
       "      <td>38.460762</td>\n",
       "      <td>-96.496218</td>\n",
       "      <td>2019</td>\n",
       "      <td>1</td>\n",
       "      <td>21</td>\n",
       "      <td>12</td>\n",
       "      <td>18</td>\n",
       "      <td>38</td>\n",
       "      <td>0</td>\n",
       "      <td>0</td>\n",
       "      <td>0</td>\n",
       "      <td>0</td>\n",
       "      <td>0</td>\n",
       "      <td>0</td>\n",
       "      <td>1</td>\n",
       "      <td>0</td>\n",
       "      <td>0</td>\n",
       "      <td>0</td>\n",
       "      <td>0</td>\n",
       "      <td>0</td>\n",
       "      <td>0</td>\n",
       "      <td>0</td>\n",
       "    </tr>\n",
       "  </tbody>\n",
       "</table>\n",
       "</div>"
      ],
      "text/plain": [
       "         amt  gender    zip      lat     long  merch_lat  merch_long  year  \\\n",
       "78689  98.21       1  33956  26.5290 -82.0916  26.755882  -82.439298  2019   \n",
       "76423   6.01       1  29860  33.6028 -81.9748  32.867139  -82.648669  2019   \n",
       "86945   2.62       1  46290  39.9347 -86.1633  38.937676  -85.222318  2019   \n",
       "57427   6.85       0  13755  42.0716 -75.0152  42.047015  -75.653525  2019   \n",
       "34616  45.48       1  67232  37.6395 -97.1714  38.460762  -96.496218  2019   \n",
       "\n",
       "       month  day  hour  sec  age  category_entertainment  \\\n",
       "78689      2   16    12   20   47                       0   \n",
       "76423      2   14    19   59   81                       0   \n",
       "86945      2   20    17   19   36                       0   \n",
       "57427      2    3    23   35   33                       0   \n",
       "34616      1   21    12   18   38                       0   \n",
       "\n",
       "       category_food_dining  category_gas_transport  category_grocery_net  \\\n",
       "78689                     0                       0                     0   \n",
       "76423                     0                       0                     0   \n",
       "86945                     0                       0                     0   \n",
       "57427                     0                       0                     0   \n",
       "34616                     0                       0                     0   \n",
       "\n",
       "       category_grocery_pos  category_health_fitness  category_home  \\\n",
       "78689                     0                        1              0   \n",
       "76423                     0                        0              0   \n",
       "86945                     0                        0              0   \n",
       "57427                     0                        0              0   \n",
       "34616                     0                        0              1   \n",
       "\n",
       "       category_kids_pets  category_misc_net  category_misc_pos  \\\n",
       "78689                   0                  0                  0   \n",
       "76423                   0                  0                  0   \n",
       "86945                   0                  0                  1   \n",
       "57427                   1                  0                  0   \n",
       "34616                   0                  0                  0   \n",
       "\n",
       "       category_personal_care  category_shopping_net  category_shopping_pos  \\\n",
       "78689                       0                      0                      0   \n",
       "76423                       0                      0                      0   \n",
       "86945                       0                      0                      0   \n",
       "57427                       0                      0                      0   \n",
       "34616                       0                      0                      0   \n",
       "\n",
       "       category_travel  \n",
       "78689                0  \n",
       "76423                1  \n",
       "86945                0  \n",
       "57427                0  \n",
       "34616                0  "
      ]
     },
     "execution_count": 10,
     "metadata": {},
     "output_type": "execute_result"
    }
   ],
   "source": [
    "X_train.head()"
   ]
  },
  {
   "cell_type": "code",
   "execution_count": 11,
   "id": "6c7aaa7f",
   "metadata": {},
   "outputs": [
    {
     "data": {
      "text/plain": [
       "Index(['amt', 'gender', 'zip', 'lat', 'long', 'merch_lat', 'merch_long',\n",
       "       'year', 'month', 'day', 'hour', 'sec', 'age', 'category_entertainment',\n",
       "       'category_food_dining', 'category_gas_transport',\n",
       "       'category_grocery_net', 'category_grocery_pos',\n",
       "       'category_health_fitness', 'category_home', 'category_kids_pets',\n",
       "       'category_misc_net', 'category_misc_pos', 'category_personal_care',\n",
       "       'category_shopping_net', 'category_shopping_pos', 'category_travel'],\n",
       "      dtype='object')"
      ]
     },
     "execution_count": 11,
     "metadata": {},
     "output_type": "execute_result"
    }
   ],
   "source": [
    "X_train.columns"
   ]
  },
  {
   "cell_type": "markdown",
   "id": "9d8b7ad9",
   "metadata": {
    "pycharm": {
     "name": "#%% md\n"
    }
   },
   "source": [
    "# Resolve imbalanced data problem:"
   ]
  },
  {
   "cell_type": "markdown",
   "id": "79643cff",
   "metadata": {
    "pycharm": {
     "name": "#%% md\n"
    }
   },
   "source": [
    "**Before moving forward to Machine Learning modeling , we need to handle the problem of unbalanced data, this is very common with fraud data, there is always the issue of class imbalance where actual fraud cases are way fewer than normal cases and constitute only a very small part of the dataset.**"
   ]
  },
  {
   "cell_type": "markdown",
   "id": "871ad4a8",
   "metadata": {
    "pycharm": {
     "name": "#%% md\n"
    }
   },
   "source": [
    "**For this purpose we will be using SMOTE(Synthetic Minority Oversampling Technique) which is a statistical technique for increasing the number of cases in your dataset in a balanced way. The component works by generating new instances from existing minority cases that you supply as input. This implementation of SMOTE does not change the number of majority cases.**\n",
    "\n",
    "**The new instances are not just copies of existing minority cases. Instead, the algorithm takes samples of the feature space for each target class and its nearest neighbors. The algorithm then generates new examples that combine features of the target case with features of its neighbors. This approach increases the features available to each class and makes the samples more general.**"
   ]
  },
  {
   "cell_type": "code",
   "execution_count": 11,
   "id": "ccde1d0a",
   "metadata": {},
   "outputs": [
    {
     "data": {
      "image/png": "[encoded data removed]",
      "text/plain": [
       "<IPython.core.display.Image object>"
      ]
     },
     "execution_count": 11,
     "metadata": {},
     "output_type": "execute_result"
    }
   ],
   "source": [
    "from IPython.display import Image\n",
    "Image(filename=\"images/smote.png\")"
   ]
  },
  {
   "cell_type": "code",
   "execution_count": 12,
   "id": "24c5c1e7",
   "metadata": {
    "pycharm": {
     "name": "#%%\n"
    }
   },
   "outputs": [],
   "source": [
    "method= SMOTE()\n",
    "X_resampled, y_resampled = method.fit_resample(X_train, y_train)"
   ]
  },
  {
   "cell_type": "code",
   "execution_count": 13,
   "id": "0370be1a",
   "metadata": {},
   "outputs": [
    {
     "data": {
      "text/plain": [
       "(80000, 27)"
      ]
     },
     "execution_count": 13,
     "metadata": {},
     "output_type": "execute_result"
    }
   ],
   "source": [
    "X_train.shape"
   ]
  },
  {
   "cell_type": "code",
   "execution_count": 14,
   "id": "57c152bd",
   "metadata": {},
   "outputs": [
    {
     "data": {
      "text/plain": [
       "0.99875"
      ]
     },
     "execution_count": 14,
     "metadata": {},
     "output_type": "execute_result"
    }
   ],
   "source": [
    "y_train.mean()*100"
   ]
  },
  {
   "cell_type": "code",
   "execution_count": 15,
   "id": "0f7d2289",
   "metadata": {},
   "outputs": [
    {
     "data": {
      "text/plain": [
       "(158402, 27)"
      ]
     },
     "execution_count": 15,
     "metadata": {},
     "output_type": "execute_result"
    }
   ],
   "source": [
    "X_resampled.shape"
   ]
  },
  {
   "cell_type": "code",
   "execution_count": 16,
   "id": "55bb46e4",
   "metadata": {},
   "outputs": [
    {
     "data": {
      "text/plain": [
       "50.0"
      ]
     },
     "execution_count": 16,
     "metadata": {},
     "output_type": "execute_result"
    }
   ],
   "source": [
    "y_resampled.mean()*100"
   ]
  },
  {
   "cell_type": "markdown",
   "id": "f0aa4375",
   "metadata": {
    "pycharm": {
     "name": "#%% md\n"
    }
   },
   "source": [
    "# 2. Machine Learning Modeling :"
   ]
  },
  {
   "cell_type": "markdown",
   "id": "fefb9aa1",
   "metadata": {
    "pycharm": {
     "name": "#%% md\n"
    }
   },
   "source": [
    "## 1. Logistic Regression :\n",
    "Logistic Regression : It is used in classification use cases where we\n",
    "want to predict a discrete target ( for example whether something is true\n",
    "or false). It catches the relationship between the target variable ( class\n",
    "column in our case ) and the independant features ( clump thickness ,\n",
    "sizeUniformity .. ) by fitting our data with the Sigmoid function."
   ]
  },
  {
   "cell_type": "code",
   "execution_count": 13,
   "id": "e7ec119b",
   "metadata": {},
   "outputs": [
    {
     "data": {
      "image/png": "[encoded data removed]",
      "text/plain": [
       "<IPython.core.display.Image object>"
      ]
     },
     "execution_count": 13,
     "metadata": {},
     "output_type": "execute_result"
    }
   ],
   "source": [
    "Image(filename=\"images/lg.png\")"
   ]
  },
  {
   "cell_type": "code",
   "execution_count": 17,
   "id": "70eba953",
   "metadata": {
    "pycharm": {
     "name": "#%%\n"
    }
   },
   "outputs": [],
   "source": [
    "mlflow.sklearn.autolog(disable=True)"
   ]
  },
  {
   "cell_type": "code",
   "execution_count": 18,
   "id": "5d9487ab",
   "metadata": {
    "pycharm": {
     "name": "#%%\n"
    }
   },
   "outputs": [],
   "source": [
    "\n",
    "with mlflow.start_run(run_name='LogisticRegression'):\n",
    "    mlflow.log_param(\"data_url\",data_url)\n",
    "    mlflow.log_param(\"data_version\",version)\n",
    "    mlflow.log_param(\"input_rows\",df.shape[0])\n",
    "    mlflow.log_param(\"input_cols\",df.shape[1])\n",
    "    #model fitting and training\n",
    "    lr=LogisticRegression()\n",
    "    mlflow.set_tag(key= \"model\",value=\"LogisticRegression\")\n",
    "    params = lr.get_params()\n",
    "    mlflow.log_params(params)\n",
    "    lr.fit(X_resampled,y_resampled)\n",
    "    train_features_name = f'{X_resampled=}'.split('=')[0]\n",
    "    train_label_name = f'{y_resampled=}'.split('=')[0]\n",
    "    mlflow.set_tag(key=\"train_features_name\",value= train_features_name)\n",
    "    mlflow.set_tag(key= \"train_label_name\",value=train_label_name)\n",
    "    predicted=lr.predict(X_test)\n",
    "    precision,recall,fscore,support=score(y_test,predicted,average='macro')\n",
    "    mlflow.log_metric(\"Precision_test\",precision)\n",
    "    mlflow.log_metric(\"Recall_test\",recall)\n",
    "    mlflow.log_metric(\"F1_score_test\",fscore)\n",
    "    mlflow.sklearn.log_model(lr,artifact_path=\"ML_models\")\n"
   ]
  },
  {
   "cell_type": "code",
   "execution_count": 24,
   "id": "46947459",
   "metadata": {},
   "outputs": [],
   "source": [
    "lr=LogisticRegression()\n",
    "lr.fit(X_resampled,y_resampled)\n",
    "predicted=lr.predict(X_test)"
   ]
  },
  {
   "cell_type": "markdown",
   "id": "c051b292",
   "metadata": {
    "pycharm": {
     "name": "#%% md\n"
    }
   },
   "source": [
    "## Model evaluation :\n",
    "### Evaluation metrics:\n",
    "* **Precision:** \n",
    "Precision is one indicator of the quality of the positive predictions\n",
    "made by the model. **Of all the positive predictions I made, how many of them are truly positive?** \\\n",
    "Precision is defined as follows:"
   ]
  },
  {
   "cell_type": "code",
   "execution_count": 15,
   "id": "22401614",
   "metadata": {
    "pycharm": {
     "name": "#%%\n"
    }
   },
   "outputs": [
    {
     "data": {
      "image/png": "[encoded data removed]",
      "text/plain": [
       "<IPython.core.display.Image object>"
      ]
     },
     "execution_count": 15,
     "metadata": {},
     "output_type": "execute_result"
    }
   ],
   "source": [
    "Image(filename=\"images/Precision.png\")"
   ]
  },
  {
   "cell_type": "markdown",
   "id": "0db7f053",
   "metadata": {
    "pycharm": {
     "name": "#%% md\n"
    }
   },
   "source": [
    "**Remark:**\n",
    " * A true positive (TP) is an outcome where the model correctly\n",
    "predicts the positive class. Similarly, a true negative (TN) is\n",
    "an outcome where the model correctly predicts the negative class.\n",
    " * A false positive (FP) is an outcome where the model incorrectly\n",
    "predicts the positive class. And a false negative (FN) is an\n",
    "outcome where the model incorrectly predicts the negative class."
   ]
  },
  {
   "cell_type": "markdown",
   "id": "11c8cd52",
   "metadata": {
    "pycharm": {
     "name": "#%% md\n"
    }
   },
   "source": [
    "* **Recall:**\n",
    "Recall, a commonly used performance metric for classification models,\n",
    "is the fraction of positives that are correctly classified,**Of all the actual positive examples out there, how many of them did I correctly predict to be positive?**"
   ]
  },
  {
   "cell_type": "code",
   "execution_count": 16,
   "id": "b12b2710",
   "metadata": {
    "pycharm": {
     "name": "#%%\n"
    }
   },
   "outputs": [
    {
     "data": {
      "image/png": "[encoded data removed]",
      "text/plain": [
       "<IPython.core.display.Image object>"
      ]
     },
     "execution_count": 16,
     "metadata": {},
     "output_type": "execute_result"
    }
   ],
   "source": [
    "Image(filename=\"images/Recall.png\")"
   ]
  },
  {
   "cell_type": "markdown",
   "id": "3af0dfd3",
   "metadata": {
    "pycharm": {
     "name": "#%% md\n"
    }
   },
   "source": [
    "* **F1-score:** To evaluate model performance comprehensively, we should examine both precision and recall. The F1 score serves as a helpful metric that considers both of them."
   ]
  },
  {
   "cell_type": "code",
   "execution_count": 17,
   "id": "aec7b773",
   "metadata": {
    "pycharm": {
     "name": "#%%\n"
    }
   },
   "outputs": [
    {
     "data": {
      "image/png": "[encoded data removed]",
      "text/plain": [
       "<IPython.core.display.Image object>"
      ]
     },
     "execution_count": 17,
     "metadata": {},
     "output_type": "execute_result"
    }
   ],
   "source": [
    "Image(filename=\"images/F1_score.png\")"
   ]
  },
  {
   "cell_type": "markdown",
   "id": "112ce3dd",
   "metadata": {
    "pycharm": {
     "name": "#%% md\n"
    }
   },
   "source": [
    "* **Accuracy:**\n",
    "    Accuracy is the number of correctly predicted data points out of all the data points."
   ]
  },
  {
   "cell_type": "code",
   "execution_count": 18,
   "id": "4f5476ce",
   "metadata": {
    "pycharm": {
     "name": "#%%\n"
    }
   },
   "outputs": [
    {
     "data": {
      "image/png": "[encoded data removed]",
      "text/plain": [
       "<IPython.core.display.Image object>"
      ]
     },
     "execution_count": 18,
     "metadata": {},
     "output_type": "execute_result"
    }
   ],
   "source": [
    "Image(filename=\"images/accuracy.png\")"
   ]
  },
  {
   "cell_type": "markdown",
   "id": "95b8f48d",
   "metadata": {
    "pycharm": {
     "name": "#%% md\n"
    }
   },
   "source": [
    "**To evaluate fraud detection models, the concepts of recall and precision are very important.Recall  meaures how many fraud cases where trully detected while precision evaluates how good the model is at generating as fewer false alarms as possible. For fraud detection, we want to prioritize high recall to leave out as few fraud cases as possible while also having a relatively high precision because too many false alarms can also be a problem!**"
   ]
  },
  {
   "cell_type": "code",
   "execution_count": 25,
   "id": "e1404edf",
   "metadata": {
    "pycharm": {
     "name": "#%%\n"
    }
   },
   "outputs": [
    {
     "name": "stdout",
     "output_type": "stream",
     "text": [
      "Classification report:\n",
      "               precision    recall  f1-score   support\n",
      "\n",
      "           0       1.00      0.94      0.97     19809\n",
      "           1       0.12      0.77      0.20       191\n",
      "\n",
      "    accuracy                           0.94     20000\n",
      "   macro avg       0.56      0.86      0.59     20000\n",
      "weighted avg       0.99      0.94      0.96     20000\n",
      "\n",
      "Confusion matrix:\n",
      " [[18700  1109]\n",
      " [   44   147]]\n",
      "Share of Non-Fraud in Test Data: 0.9904\n"
     ]
    }
   ],
   "source": [
    "print('Classification report:\\n', classification_report(y_test, predicted))\n",
    "conf_mat = confusion_matrix(y_true=y_test, y_pred=predicted)\n",
    "print('Confusion matrix:\\n', conf_mat)\n",
    "print('Share of Non-Fraud in Test Data:', 1-round(y_test.sum()/len(y_test),4))"
   ]
  },
  {
   "cell_type": "markdown",
   "id": "2d801db7",
   "metadata": {
    "pycharm": {
     "name": "#%% md\n"
    }
   },
   "source": [
    "**As we can see above the recall is around 75% while precision is just 6% which means there is a lot of false positives to handle.**"
   ]
  },
  {
   "cell_type": "markdown",
   "id": "bbc99beb",
   "metadata": {
    "pycharm": {
     "name": "#%% md\n"
    }
   },
   "source": [
    "## 2. Random forest:"
   ]
  },
  {
   "cell_type": "code",
   "execution_count": null,
   "id": "81b4e1d1",
   "metadata": {
    "pycharm": {
     "name": "#%%\n"
    }
   },
   "outputs": [],
   "source": [
    "Image(filename=\"images/random.png\")"
   ]
  },
  {
   "cell_type": "code",
   "execution_count": 19,
   "id": "ce0645e7",
   "metadata": {
    "pycharm": {
     "name": "#%%\n"
    }
   },
   "outputs": [],
   "source": [
    "# disable autologging\n",
    "mlflow.sklearn.autolog(disable=True)"
   ]
  },
  {
   "cell_type": "code",
   "execution_count": 20,
   "id": "5d6c2976",
   "metadata": {
    "pycharm": {
     "name": "#%%\n"
    }
   },
   "outputs": [],
   "source": [
    "\n",
    "with mlflow.start_run(run_name='RandomForest'):\n",
    "    mlflow.log_param(\"data_url\",data_url)\n",
    "    mlflow.log_param(\"data_version\",version)\n",
    "    mlflow.log_param(\"input_rows\",df.shape[0])\n",
    "    mlflow.log_param(\"input_cols\",df.shape[1])\n",
    "    rf = RandomForestClassifier(random_state=5)\n",
    "    mlflow.set_tag(key=\"model\", value = \"RandomForest\")\n",
    "    params = rf.get_params()\n",
    "    mlflow.log_params(params)\n",
    "    rf.fit(X_resampled,y_resampled)\n",
    "    train_features_name = f'{X_resampled=}'.split('=')[0]\n",
    "    train_label_name = f'{y_resampled=}'.split('=')[0]\n",
    "    mlflow.set_tag(key=\"train_features_name\",value= train_features_name)\n",
    "    mlflow.set_tag(key= \"train_label_name\",value=train_label_name)\n",
    "    predicted=rf.predict(X_test)\n",
    "    precision,recall,fscore,support=score(y_test,predicted,average='macro')\n",
    "    mlflow.log_metric(\"Precision_test\",precision)\n",
    "    mlflow.log_metric(\"Recall_test\",recall)\n",
    "    mlflow.log_metric(\"F1_score_test\",fscore)\n",
    "    mlflow.sklearn.log_model(rf,artifact_path=\"ML_models\")\n"
   ]
  },
  {
   "cell_type": "code",
   "execution_count": 20,
   "id": "a3c8760f",
   "metadata": {},
   "outputs": [],
   "source": [
    "rf = RandomForestClassifier(random_state=5)\n",
    "rf.fit(X_resampled,y_resampled)\n",
    "predicted=rf.predict(X_test)"
   ]
  },
  {
   "cell_type": "code",
   "execution_count": 21,
   "id": "092afa2d",
   "metadata": {
    "pycharm": {
     "name": "#%%\n"
    }
   },
   "outputs": [
    {
     "name": "stdout",
     "output_type": "stream",
     "text": [
      "Classification report:\n",
      "               precision    recall  f1-score   support\n",
      "\n",
      "           0       1.00      1.00      1.00     19809\n",
      "           1       0.90      0.78      0.83       191\n",
      "\n",
      "    accuracy                           1.00     20000\n",
      "   macro avg       0.95      0.89      0.92     20000\n",
      "weighted avg       1.00      1.00      1.00     20000\n",
      "\n",
      "Confusion matrix:\n",
      " [[19792    17]\n",
      " [   42   149]]\n",
      "Share of Non-Fraud in Test Data: 0.9904\n"
     ]
    }
   ],
   "source": [
    "print('Classification report:\\n', classification_report(y_test, predicted))\n",
    "conf_mat = confusion_matrix(y_true=y_test, y_pred=predicted)\n",
    "print('Confusion matrix:\\n', conf_mat)\n",
    "print('Share of Non-Fraud in Test Data:', 1-round(y_test.sum()/len(y_test),4))"
   ]
  },
  {
   "cell_type": "markdown",
   "id": "4741492d",
   "metadata": {
    "pycharm": {
     "name": "#%% md\n"
    }
   },
   "source": [
    "**The above metrics show that although the Random Forest model has a slightly lower recall, it has much better precision!**"
   ]
  },
  {
   "cell_type": "markdown",
   "id": "59504386",
   "metadata": {},
   "source": [
    "## 3.Xgboost:"
   ]
  },
  {
   "cell_type": "code",
   "execution_count": 21,
   "id": "6421ab87",
   "metadata": {},
   "outputs": [],
   "source": [
    "# disable autologging\n",
    "mlflow.xgboost.autolog(disable=True)"
   ]
  },
  {
   "cell_type": "code",
   "execution_count": 22,
   "id": "e6f194e3",
   "metadata": {},
   "outputs": [],
   "source": [
    "\n",
    "with mlflow.start_run(run_name='XGBoost'):\n",
    "    mlflow.log_param(\"data_url\",data_url)\n",
    "    mlflow.log_param(\"data_version\",version)\n",
    "    mlflow.log_param(\"input_rows\",df.shape[0])\n",
    "    mlflow.log_param(\"input_cols\",df.shape[1])\n",
    "    xg = XGBClassifier()\n",
    "    params = xg.get_params()\n",
    "    mlflow.set_tag(key= \"model\", value=\"XGBClassifier\")\n",
    "    mlflow.log_params(params)\n",
    "    xg.fit(X_train,y_train)\n",
    "    train_features_name = f'{X_train=}'.split('=')[0]\n",
    "    train_label_name = f'{y_train=}'.split('=')[0]\n",
    "    mlflow.set_tag(key=\"train_features_name\",value= train_features_name)\n",
    "    mlflow.set_tag(key= \"train_label_name\",value=train_label_name)\n",
    "    predicted=xg.predict(X_test)\n",
    "    precision,recall,fscore,support=score(y_test,predicted,average='macro')\n",
    "    mlflow.log_metric(\"Precision_test\",precision)\n",
    "    mlflow.log_metric(\"Recall_test\",recall)\n",
    "    mlflow.log_metric(\"F1_score_test\",fscore)\n",
    "    mlflow.xgboost.log_model(xg,artifact_path=\"ML_models\")\n"
   ]
  },
  {
   "cell_type": "code",
   "execution_count": 22,
   "id": "22b54496",
   "metadata": {},
   "outputs": [],
   "source": [
    "xg = XGBClassifier()\n",
    "xg.fit(X_train,y_train)\n",
    "predicted=xg.predict(X_test)"
   ]
  },
  {
   "cell_type": "code",
   "execution_count": 23,
   "id": "5ccd4c59",
   "metadata": {},
   "outputs": [
    {
     "name": "stdout",
     "output_type": "stream",
     "text": [
      "Classification report:\n",
      "               precision    recall  f1-score   support\n",
      "\n",
      "           0       1.00      1.00      1.00     19809\n",
      "           1       0.97      0.84      0.90       191\n",
      "\n",
      "    accuracy                           1.00     20000\n",
      "   macro avg       0.98      0.92      0.95     20000\n",
      "weighted avg       1.00      1.00      1.00     20000\n",
      "\n",
      "Confusion matrix:\n",
      " [[19804     5]\n",
      " [   30   161]]\n",
      "Share of Non-Fraud in Test Data: 0.9904\n"
     ]
    }
   ],
   "source": [
    "print('Classification report:\\n', classification_report(y_test, predicted))\n",
    "conf_mat = confusion_matrix(y_true=y_test, y_pred=predicted)\n",
    "print('Confusion matrix:\\n', conf_mat)\n",
    "print('Share of Non-Fraud in Test Data:', 1-round(y_test.sum()/len(y_test),4))"
   ]
  },
  {
   "cell_type": "code",
   "execution_count": 23,
   "id": "b84b0e8b",
   "metadata": {},
   "outputs": [
    {
     "name": "stdout",
     "output_type": "stream",
     "text": [
      "a2e01eeee2834ad89a4f33f4fedd6199\n"
     ]
    }
   ],
   "source": [
    "\n",
    "#Reading Pandas Dataframe from mlflow\n",
    "all_experiments = [exp.experiment_id for exp in mlflow.search_experiments()]\n",
    "df_mlflow = mlflow.search_runs(experiment_ids=all_experiments,filter_string=\"metrics.F1_score_test <1\")\n",
    "run_id = df_mlflow.loc[df_mlflow['metrics.F1_score_test'].idxmax()]['run_id']\n",
    "print(run_id)"
   ]
  },
  {
   "cell_type": "code",
   "execution_count": 24,
   "id": "607bd7fe",
   "metadata": {},
   "outputs": [
    {
     "data": {
      "text/html": [
       "<div>\n",
       "<style scoped>\n",
       "    .dataframe tbody tr th:only-of-type {\n",
       "        vertical-align: middle;\n",
       "    }\n",
       "\n",
       "    .dataframe tbody tr th {\n",
       "        vertical-align: top;\n",
       "    }\n",
       "\n",
       "    .dataframe thead th {\n",
       "        text-align: right;\n",
       "    }\n",
       "</style>\n",
       "<table border=\"1\" class=\"dataframe\">\n",
       "  <thead>\n",
       "    <tr style=\"text-align: right;\">\n",
       "      <th></th>\n",
       "      <th>run_id</th>\n",
       "      <th>experiment_id</th>\n",
       "      <th>status</th>\n",
       "      <th>artifact_uri</th>\n",
       "      <th>start_time</th>\n",
       "      <th>end_time</th>\n",
       "      <th>metrics.Precision_test</th>\n",
       "      <th>metrics.Recall_test</th>\n",
       "      <th>metrics.F1_score_test</th>\n",
       "      <th>params.multi_strategy</th>\n",
       "      <th>params.max_cat_threshold</th>\n",
       "      <th>params.reg_lambda</th>\n",
       "      <th>params.sampling_method</th>\n",
       "      <th>params.grow_policy</th>\n",
       "      <th>params.max_bin</th>\n",
       "      <th>params.monotone_constraints</th>\n",
       "      <th>params.n_jobs</th>\n",
       "      <th>params.scale_pos_weight</th>\n",
       "      <th>params.max_depth</th>\n",
       "      <th>params.enable_categorical</th>\n",
       "      <th>params.learning_rate</th>\n",
       "      <th>params.data_url</th>\n",
       "      <th>params.feature_types</th>\n",
       "      <th>params.max_leaves</th>\n",
       "      <th>params.validate_parameters</th>\n",
       "      <th>params.min_child_weight</th>\n",
       "      <th>params.interaction_constraints</th>\n",
       "      <th>params.booster</th>\n",
       "      <th>params.data_version</th>\n",
       "      <th>params.colsample_bytree</th>\n",
       "      <th>params.device</th>\n",
       "      <th>params.early_stopping_rounds</th>\n",
       "      <th>params.input_cols</th>\n",
       "      <th>params.tree_method</th>\n",
       "      <th>params.input_rows</th>\n",
       "      <th>params.reg_alpha</th>\n",
       "      <th>params.importance_type</th>\n",
       "      <th>params.colsample_bynode</th>\n",
       "      <th>params.max_delta_step</th>\n",
       "      <th>params.missing</th>\n",
       "      <th>params.verbosity</th>\n",
       "      <th>params.random_state</th>\n",
       "      <th>params.base_score</th>\n",
       "      <th>params.gamma</th>\n",
       "      <th>params.callbacks</th>\n",
       "      <th>params.max_cat_to_onehot</th>\n",
       "      <th>params.n_estimators</th>\n",
       "      <th>params.subsample</th>\n",
       "      <th>params.eval_metric</th>\n",
       "      <th>params.colsample_bylevel</th>\n",
       "      <th>params.objective</th>\n",
       "      <th>params.num_parallel_tree</th>\n",
       "      <th>params.max_leaf_nodes</th>\n",
       "      <th>params.ccp_alpha</th>\n",
       "      <th>params.class_weight</th>\n",
       "      <th>params.bootstrap</th>\n",
       "      <th>params.max_features</th>\n",
       "      <th>params.max_samples</th>\n",
       "      <th>params.verbose</th>\n",
       "      <th>params.min_impurity_decrease</th>\n",
       "      <th>params.oob_score</th>\n",
       "      <th>params.warm_start</th>\n",
       "      <th>params.criterion</th>\n",
       "      <th>params.min_samples_leaf</th>\n",
       "      <th>params.min_weight_fraction_leaf</th>\n",
       "      <th>params.min_samples_split</th>\n",
       "      <th>params.l1_ratio</th>\n",
       "      <th>params.dual</th>\n",
       "      <th>params.fit_intercept</th>\n",
       "      <th>params.C</th>\n",
       "      <th>params.solver</th>\n",
       "      <th>params.penalty</th>\n",
       "      <th>params.multi_class</th>\n",
       "      <th>params.tol</th>\n",
       "      <th>params.intercept_scaling</th>\n",
       "      <th>params.max_iter</th>\n",
       "      <th>tags.train_features_name</th>\n",
       "      <th>tags.mlflow.log-model.history</th>\n",
       "      <th>tags.mlflow.source.name</th>\n",
       "      <th>tags.mlflow.runName</th>\n",
       "      <th>tags.mlflow.source.type</th>\n",
       "      <th>tags.model</th>\n",
       "      <th>tags.mlflow.user</th>\n",
       "      <th>tags.train_label_name</th>\n",
       "    </tr>\n",
       "  </thead>\n",
       "  <tbody>\n",
       "    <tr>\n",
       "      <th>0</th>\n",
       "      <td>a2e01eeee2834ad89a4f33f4fedd6199</td>\n",
       "      <td>0</td>\n",
       "      <td>FINISHED</td>\n",
       "      <td>mlflow-artifacts:/14a5811db9aa4c6bb3acc344b6ca...</td>\n",
       "      <td>2023-10-02 11:46:33.657000+00:00</td>\n",
       "      <td>2023-10-02 11:46:47.060000+00:00</td>\n",
       "      <td>0.984183</td>\n",
       "      <td>0.921340</td>\n",
       "      <td>0.950539</td>\n",
       "      <td>None</td>\n",
       "      <td>None</td>\n",
       "      <td>None</td>\n",
       "      <td>None</td>\n",
       "      <td>None</td>\n",
       "      <td>None</td>\n",
       "      <td>None</td>\n",
       "      <td>None</td>\n",
       "      <td>None</td>\n",
       "      <td>None</td>\n",
       "      <td>False</td>\n",
       "      <td>None</td>\n",
       "      <td>../data/fraud.csv</td>\n",
       "      <td>None</td>\n",
       "      <td>None</td>\n",
       "      <td>None</td>\n",
       "      <td>None</td>\n",
       "      <td>None</td>\n",
       "      <td>None</td>\n",
       "      <td>v1.0</td>\n",
       "      <td>None</td>\n",
       "      <td>None</td>\n",
       "      <td>None</td>\n",
       "      <td>23</td>\n",
       "      <td>None</td>\n",
       "      <td>100000</td>\n",
       "      <td>None</td>\n",
       "      <td>None</td>\n",
       "      <td>None</td>\n",
       "      <td>None</td>\n",
       "      <td>nan</td>\n",
       "      <td>None</td>\n",
       "      <td>None</td>\n",
       "      <td>None</td>\n",
       "      <td>None</td>\n",
       "      <td>None</td>\n",
       "      <td>None</td>\n",
       "      <td>None</td>\n",
       "      <td>None</td>\n",
       "      <td>None</td>\n",
       "      <td>None</td>\n",
       "      <td>binary:logistic</td>\n",
       "      <td>None</td>\n",
       "      <td>None</td>\n",
       "      <td>None</td>\n",
       "      <td>None</td>\n",
       "      <td>None</td>\n",
       "      <td>None</td>\n",
       "      <td>None</td>\n",
       "      <td>None</td>\n",
       "      <td>None</td>\n",
       "      <td>None</td>\n",
       "      <td>None</td>\n",
       "      <td>None</td>\n",
       "      <td>None</td>\n",
       "      <td>None</td>\n",
       "      <td>None</td>\n",
       "      <td>None</td>\n",
       "      <td>None</td>\n",
       "      <td>None</td>\n",
       "      <td>None</td>\n",
       "      <td>None</td>\n",
       "      <td>None</td>\n",
       "      <td>None</td>\n",
       "      <td>None</td>\n",
       "      <td>None</td>\n",
       "      <td>None</td>\n",
       "      <td>X_train</td>\n",
       "      <td>[{\"run_id\": \"a2e01eeee2834ad89a4f33f4fedd6199\"...</td>\n",
       "      <td>/home/bassem/anaconda3/lib/python3.11/site-pac...</td>\n",
       "      <td>XGBoost</td>\n",
       "      <td>LOCAL</td>\n",
       "      <td>XGBClassifier</td>\n",
       "      <td>bassem.benhamed</td>\n",
       "      <td>y_train</td>\n",
       "    </tr>\n",
       "    <tr>\n",
       "      <th>1</th>\n",
       "      <td>c33cfaee7a184d578340c1ee05cf4177</td>\n",
       "      <td>0</td>\n",
       "      <td>FINISHED</td>\n",
       "      <td>mlflow-artifacts:/14a5811db9aa4c6bb3acc344b6ca...</td>\n",
       "      <td>2023-10-02 11:45:13.925000+00:00</td>\n",
       "      <td>2023-10-02 11:46:24.544000+00:00</td>\n",
       "      <td>0.950456</td>\n",
       "      <td>0.889648</td>\n",
       "      <td>0.917808</td>\n",
       "      <td>None</td>\n",
       "      <td>None</td>\n",
       "      <td>None</td>\n",
       "      <td>None</td>\n",
       "      <td>None</td>\n",
       "      <td>None</td>\n",
       "      <td>None</td>\n",
       "      <td>None</td>\n",
       "      <td>None</td>\n",
       "      <td>None</td>\n",
       "      <td>None</td>\n",
       "      <td>None</td>\n",
       "      <td>../data/fraud.csv</td>\n",
       "      <td>None</td>\n",
       "      <td>None</td>\n",
       "      <td>None</td>\n",
       "      <td>None</td>\n",
       "      <td>None</td>\n",
       "      <td>None</td>\n",
       "      <td>v1.0</td>\n",
       "      <td>None</td>\n",
       "      <td>None</td>\n",
       "      <td>None</td>\n",
       "      <td>23</td>\n",
       "      <td>None</td>\n",
       "      <td>100000</td>\n",
       "      <td>None</td>\n",
       "      <td>None</td>\n",
       "      <td>None</td>\n",
       "      <td>None</td>\n",
       "      <td>None</td>\n",
       "      <td>None</td>\n",
       "      <td>5</td>\n",
       "      <td>None</td>\n",
       "      <td>None</td>\n",
       "      <td>None</td>\n",
       "      <td>None</td>\n",
       "      <td>100</td>\n",
       "      <td>None</td>\n",
       "      <td>None</td>\n",
       "      <td>None</td>\n",
       "      <td>None</td>\n",
       "      <td>None</td>\n",
       "      <td>None</td>\n",
       "      <td>0.0</td>\n",
       "      <td>None</td>\n",
       "      <td>True</td>\n",
       "      <td>sqrt</td>\n",
       "      <td>None</td>\n",
       "      <td>0</td>\n",
       "      <td>0.0</td>\n",
       "      <td>False</td>\n",
       "      <td>False</td>\n",
       "      <td>gini</td>\n",
       "      <td>1</td>\n",
       "      <td>0.0</td>\n",
       "      <td>2</td>\n",
       "      <td>None</td>\n",
       "      <td>None</td>\n",
       "      <td>None</td>\n",
       "      <td>None</td>\n",
       "      <td>None</td>\n",
       "      <td>None</td>\n",
       "      <td>None</td>\n",
       "      <td>None</td>\n",
       "      <td>None</td>\n",
       "      <td>None</td>\n",
       "      <td>X_resampled</td>\n",
       "      <td>[{\"run_id\": \"c33cfaee7a184d578340c1ee05cf4177\"...</td>\n",
       "      <td>/home/bassem/anaconda3/lib/python3.11/site-pac...</td>\n",
       "      <td>RandomForest</td>\n",
       "      <td>LOCAL</td>\n",
       "      <td>RandomForest</td>\n",
       "      <td>bassem.benhamed</td>\n",
       "      <td>y_resampled</td>\n",
       "    </tr>\n",
       "    <tr>\n",
       "      <th>2</th>\n",
       "      <td>74a48e404b6e449bbd7af71ddfd1041a</td>\n",
       "      <td>0</td>\n",
       "      <td>FINISHED</td>\n",
       "      <td>mlflow-artifacts:/14a5811db9aa4c6bb3acc344b6ca...</td>\n",
       "      <td>2023-10-02 11:36:56.195000+00:00</td>\n",
       "      <td>2023-10-02 11:37:24.364000+00:00</td>\n",
       "      <td>0.557067</td>\n",
       "      <td>0.856673</td>\n",
       "      <td>0.586136</td>\n",
       "      <td>None</td>\n",
       "      <td>None</td>\n",
       "      <td>None</td>\n",
       "      <td>None</td>\n",
       "      <td>None</td>\n",
       "      <td>None</td>\n",
       "      <td>None</td>\n",
       "      <td>None</td>\n",
       "      <td>None</td>\n",
       "      <td>None</td>\n",
       "      <td>None</td>\n",
       "      <td>None</td>\n",
       "      <td>../data/fraud.csv</td>\n",
       "      <td>None</td>\n",
       "      <td>None</td>\n",
       "      <td>None</td>\n",
       "      <td>None</td>\n",
       "      <td>None</td>\n",
       "      <td>None</td>\n",
       "      <td>v1.0</td>\n",
       "      <td>None</td>\n",
       "      <td>None</td>\n",
       "      <td>None</td>\n",
       "      <td>23</td>\n",
       "      <td>None</td>\n",
       "      <td>100000</td>\n",
       "      <td>None</td>\n",
       "      <td>None</td>\n",
       "      <td>None</td>\n",
       "      <td>None</td>\n",
       "      <td>None</td>\n",
       "      <td>None</td>\n",
       "      <td>None</td>\n",
       "      <td>None</td>\n",
       "      <td>None</td>\n",
       "      <td>None</td>\n",
       "      <td>None</td>\n",
       "      <td>None</td>\n",
       "      <td>None</td>\n",
       "      <td>None</td>\n",
       "      <td>None</td>\n",
       "      <td>None</td>\n",
       "      <td>None</td>\n",
       "      <td>None</td>\n",
       "      <td>None</td>\n",
       "      <td>None</td>\n",
       "      <td>None</td>\n",
       "      <td>None</td>\n",
       "      <td>None</td>\n",
       "      <td>0</td>\n",
       "      <td>None</td>\n",
       "      <td>None</td>\n",
       "      <td>False</td>\n",
       "      <td>None</td>\n",
       "      <td>None</td>\n",
       "      <td>None</td>\n",
       "      <td>None</td>\n",
       "      <td>None</td>\n",
       "      <td>False</td>\n",
       "      <td>True</td>\n",
       "      <td>1.0</td>\n",
       "      <td>lbfgs</td>\n",
       "      <td>l2</td>\n",
       "      <td>auto</td>\n",
       "      <td>0.0001</td>\n",
       "      <td>1</td>\n",
       "      <td>100</td>\n",
       "      <td>X_resampled</td>\n",
       "      <td>[{\"run_id\": \"74a48e404b6e449bbd7af71ddfd1041a\"...</td>\n",
       "      <td>/home/bassem/anaconda3/lib/python3.11/site-pac...</td>\n",
       "      <td>LogisticRegression</td>\n",
       "      <td>LOCAL</td>\n",
       "      <td>LogisticRegression</td>\n",
       "      <td>bassem.benhamed</td>\n",
       "      <td>y_resampled</td>\n",
       "    </tr>\n",
       "  </tbody>\n",
       "</table>\n",
       "</div>"
      ],
      "text/plain": [
       "                             run_id experiment_id    status  \\\n",
       "0  a2e01eeee2834ad89a4f33f4fedd6199             0  FINISHED   \n",
       "1  c33cfaee7a184d578340c1ee05cf4177             0  FINISHED   \n",
       "2  74a48e404b6e449bbd7af71ddfd1041a             0  FINISHED   \n",
       "\n",
       "                                        artifact_uri  \\\n",
       "0  mlflow-artifacts:/14a5811db9aa4c6bb3acc344b6ca...   \n",
       "1  mlflow-artifacts:/14a5811db9aa4c6bb3acc344b6ca...   \n",
       "2  mlflow-artifacts:/14a5811db9aa4c6bb3acc344b6ca...   \n",
       "\n",
       "                        start_time                         end_time  \\\n",
       "0 2023-10-02 11:46:33.657000+00:00 2023-10-02 11:46:47.060000+00:00   \n",
       "1 2023-10-02 11:45:13.925000+00:00 2023-10-02 11:46:24.544000+00:00   \n",
       "2 2023-10-02 11:36:56.195000+00:00 2023-10-02 11:37:24.364000+00:00   \n",
       "\n",
       "   metrics.Precision_test  metrics.Recall_test  metrics.F1_score_test  \\\n",
       "0                0.984183             0.921340               0.950539   \n",
       "1                0.950456             0.889648               0.917808   \n",
       "2                0.557067             0.856673               0.586136   \n",
       "\n",
       "  params.multi_strategy params.max_cat_threshold params.reg_lambda  \\\n",
       "0                  None                     None              None   \n",
       "1                  None                     None              None   \n",
       "2                  None                     None              None   \n",
       "\n",
       "  params.sampling_method params.grow_policy params.max_bin  \\\n",
       "0                   None               None           None   \n",
       "1                   None               None           None   \n",
       "2                   None               None           None   \n",
       "\n",
       "  params.monotone_constraints params.n_jobs params.scale_pos_weight  \\\n",
       "0                        None          None                    None   \n",
       "1                        None          None                    None   \n",
       "2                        None          None                    None   \n",
       "\n",
       "  params.max_depth params.enable_categorical params.learning_rate  \\\n",
       "0             None                     False                 None   \n",
       "1             None                      None                 None   \n",
       "2             None                      None                 None   \n",
       "\n",
       "     params.data_url params.feature_types params.max_leaves  \\\n",
       "0  ../data/fraud.csv                 None              None   \n",
       "1  ../data/fraud.csv                 None              None   \n",
       "2  ../data/fraud.csv                 None              None   \n",
       "\n",
       "  params.validate_parameters params.min_child_weight  \\\n",
       "0                       None                    None   \n",
       "1                       None                    None   \n",
       "2                       None                    None   \n",
       "\n",
       "  params.interaction_constraints params.booster params.data_version  \\\n",
       "0                           None           None                v1.0   \n",
       "1                           None           None                v1.0   \n",
       "2                           None           None                v1.0   \n",
       "\n",
       "  params.colsample_bytree params.device params.early_stopping_rounds  \\\n",
       "0                    None          None                         None   \n",
       "1                    None          None                         None   \n",
       "2                    None          None                         None   \n",
       "\n",
       "  params.input_cols params.tree_method params.input_rows params.reg_alpha  \\\n",
       "0                23               None            100000             None   \n",
       "1                23               None            100000             None   \n",
       "2                23               None            100000             None   \n",
       "\n",
       "  params.importance_type params.colsample_bynode params.max_delta_step  \\\n",
       "0                   None                    None                  None   \n",
       "1                   None                    None                  None   \n",
       "2                   None                    None                  None   \n",
       "\n",
       "  params.missing params.verbosity params.random_state params.base_score  \\\n",
       "0            nan             None                None              None   \n",
       "1           None             None                   5              None   \n",
       "2           None             None                None              None   \n",
       "\n",
       "  params.gamma params.callbacks params.max_cat_to_onehot params.n_estimators  \\\n",
       "0         None             None                     None                None   \n",
       "1         None             None                     None                 100   \n",
       "2         None             None                     None                None   \n",
       "\n",
       "  params.subsample params.eval_metric params.colsample_bylevel  \\\n",
       "0             None               None                     None   \n",
       "1             None               None                     None   \n",
       "2             None               None                     None   \n",
       "\n",
       "  params.objective params.num_parallel_tree params.max_leaf_nodes  \\\n",
       "0  binary:logistic                     None                  None   \n",
       "1             None                     None                  None   \n",
       "2             None                     None                  None   \n",
       "\n",
       "  params.ccp_alpha params.class_weight params.bootstrap params.max_features  \\\n",
       "0             None                None             None                None   \n",
       "1              0.0                None             True                sqrt   \n",
       "2             None                None             None                None   \n",
       "\n",
       "  params.max_samples params.verbose params.min_impurity_decrease  \\\n",
       "0               None           None                         None   \n",
       "1               None              0                          0.0   \n",
       "2               None              0                         None   \n",
       "\n",
       "  params.oob_score params.warm_start params.criterion params.min_samples_leaf  \\\n",
       "0             None              None             None                    None   \n",
       "1            False             False             gini                       1   \n",
       "2             None             False             None                    None   \n",
       "\n",
       "  params.min_weight_fraction_leaf params.min_samples_split params.l1_ratio  \\\n",
       "0                            None                     None            None   \n",
       "1                             0.0                        2            None   \n",
       "2                            None                     None            None   \n",
       "\n",
       "  params.dual params.fit_intercept params.C params.solver params.penalty  \\\n",
       "0        None                 None     None          None           None   \n",
       "1        None                 None     None          None           None   \n",
       "2       False                 True      1.0         lbfgs             l2   \n",
       "\n",
       "  params.multi_class params.tol params.intercept_scaling params.max_iter  \\\n",
       "0               None       None                     None            None   \n",
       "1               None       None                     None            None   \n",
       "2               auto     0.0001                        1             100   \n",
       "\n",
       "  tags.train_features_name                      tags.mlflow.log-model.history  \\\n",
       "0                  X_train  [{\"run_id\": \"a2e01eeee2834ad89a4f33f4fedd6199\"...   \n",
       "1              X_resampled  [{\"run_id\": \"c33cfaee7a184d578340c1ee05cf4177\"...   \n",
       "2              X_resampled  [{\"run_id\": \"74a48e404b6e449bbd7af71ddfd1041a\"...   \n",
       "\n",
       "                             tags.mlflow.source.name tags.mlflow.runName  \\\n",
       "0  /home/bassem/anaconda3/lib/python3.11/site-pac...             XGBoost   \n",
       "1  /home/bassem/anaconda3/lib/python3.11/site-pac...        RandomForest   \n",
       "2  /home/bassem/anaconda3/lib/python3.11/site-pac...  LogisticRegression   \n",
       "\n",
       "  tags.mlflow.source.type          tags.model tags.mlflow.user  \\\n",
       "0                   LOCAL       XGBClassifier  bassem.benhamed   \n",
       "1                   LOCAL        RandomForest  bassem.benhamed   \n",
       "2                   LOCAL  LogisticRegression  bassem.benhamed   \n",
       "\n",
       "  tags.train_label_name  \n",
       "0               y_train  \n",
       "1           y_resampled  \n",
       "2           y_resampled  "
      ]
     },
     "execution_count": 24,
     "metadata": {},
     "output_type": "execute_result"
    }
   ],
   "source": [
    "df_mlflow"
   ]
  },
  {
   "cell_type": "code",
   "execution_count": 25,
   "id": "48c6e2bd",
   "metadata": {},
   "outputs": [
    {
     "data": {
      "application/vnd.jupyter.widget-view+json": {
       "model_id": "5c67a51f327b4f1aa5e2a0acdf5b0022",
       "version_major": 2,
       "version_minor": 0
      },
      "text/plain": [
       "Downloading artifacts:   0%|          | 0/5 [00:00<?, ?it/s]"
      ]
     },
     "metadata": {},
     "output_type": "display_data"
    },
    {
     "name": "stdout",
     "output_type": "stream",
     "text": [
      "mlflow.pyfunc.loaded_model:\n",
      "  artifact_path: ML_models\n",
      "  flavor: mlflow.xgboost\n",
      "  run_id: a2e01eeee2834ad89a4f33f4fedd6199\n",
      "\n"
     ]
    },
    {
     "data": {
      "text/plain": [
       "array([0, 0, 0, ..., 0, 0, 0])"
      ]
     },
     "execution_count": 25,
     "metadata": {},
     "output_type": "execute_result"
    }
   ],
   "source": [
    "\n",
    "#let's call the model from the model registry ( in production stage)\n",
    "import mlflow.pyfunc\n",
    "\n",
    "logged_model = f'runs:/{run_id}/ML_models'\n",
    "\n",
    "# Load model as a PyFuncModel.\n",
    "loaded_model = mlflow.pyfunc.load_model(logged_model)\n",
    "print(loaded_model)\n",
    "\n",
    "# Predict on a Pandas DataFrame.\n",
    "\n",
    "loaded_model.predict(X_test)"
   ]
  },
  {
   "cell_type": "code",
   "execution_count": null,
   "id": "745d1782",
   "metadata": {},
   "outputs": [],
   "source": []
  }
 ],
 "metadata": {
  "kernelspec": {
   "display_name": "Python 3 (ipykernel)",
   "language": "python",
   "name": "python3"
  },
  "language_info": {
   "codemirror_mode": {
    "name": "ipython",
    "version": 3
   },
   "file_extension": ".py",
   "mimetype": "text/x-python",
   "name": "python",
   "nbconvert_exporter": "python",
   "pygments_lexer": "ipython3",
   "version": "3.11.4"
  },
  "vscode": {
   "interpreter": {
    "hash": "b4e99843e81c2deca2d3224feb79a0f5957a83d6a63823c56a0008e49a2646df"
   }
  }
 },
 "nbformat": 4,
 "nbformat_minor": 5
}
